{
 "cells": [
  {
   "cell_type": "code",
   "execution_count": 25,
   "metadata": {},
   "outputs": [
    {
     "name": "stdout",
     "output_type": "stream",
     "text": [
      "Fetching causal human gene phenotype and disease associations\n"
     ]
    },
    {
     "data": {
      "text/plain": [
       "4382"
      ]
     },
     "execution_count": 25,
     "metadata": {},
     "output_type": "execute_result"
    }
   ],
   "source": [
    "import requests\n",
    "\n",
    "SOLR_URL = 'https://solr.monarchinitiative.org/solr/golr/select'\n",
    "\n",
    "def get_causal_gene_phenotype_assocs():\n",
    "    print(\"Fetching causal human gene phenotype and disease associations\")\n",
    "    result_set = set()\n",
    "    filters = ['object_closure:\"{0}\" OR object_closure:\"{1}\"'.format(\"UPHENO:0001001\", \"DOID:4\"),\n",
    "               'subject_category:\"gene\"',\n",
    "               'subject_taxon: \"{0}\"'.format('NCBITaxon:9606')]\n",
    "    params = {\n",
    "        'wt': 'json',\n",
    "        'rows': 1000,\n",
    "        'start': 0,\n",
    "        'q': '*:*',\n",
    "        'fq': filters,\n",
    "        'fl': 'subject, subject_label, object, object_label, relation, is_defined_by'\n",
    "    }\n",
    "\n",
    "    causal_source = [\"http://data.monarchinitiative.org/ttl/clinvar.ttl\",\n",
    "                     \"https://data.monarchinitiative.org/ttl/omim.ttl\",\n",
    "                     \"https://data.monarchinitiative.org/ttl/orphanet.ttl\"]\n",
    "    resultCount = params['rows']\n",
    "    while params['start'] < resultCount:\n",
    "        solr_request = requests.get(SOLR_URL, params=params)\n",
    "        response = solr_request.json()\n",
    "        resultCount = response['response']['numFound']\n",
    "\n",
    "        for doc in response['response']['docs']:\n",
    "            if 'relation' in doc:\n",
    "                # Filter out likely pathogenic\n",
    "                if doc['relation'] == 'GENO:0000841':\n",
    "                    continue\n",
    "\n",
    "            if 'is_defined_by' in doc\\\n",
    "                    and len([source for source in doc['is_defined_by'] if source in causal_source]) == 0\\\n",
    "                    and doc['is_defined_by'] != ['https://data.monarchinitiative.org/ttl/hpoa.ttl']:\n",
    "                continue\n",
    "            elif 'is_defined_by' not in doc:\n",
    "                continue\n",
    "\n",
    "            yield(doc)\n",
    "\n",
    "        params['start'] += params['rows']\n",
    "\n",
    "outfile = open('g2pd-associations', 'w')\n",
    "gene_set = set()\n",
    "for doc in get_causal_gene_phenotype_assocs():\n",
    "    gene_set.add(doc['subject'])\n",
    "    def_by = [defined.replace('https://data.monarchinitiative.org/ttl/', '') for defined in doc['is_defined_by']]\n",
    "    def_by = [defined.replace('http://data.monarchinitiative.org/ttl/', '') for defined in def_by]\n",
    "    def_by = [defined.replace('.ttl', '') for defined in def_by]\n",
    "\n",
    "    outfile.write(\"{}\\t{}\\t{}\\t{}\\t{}\\n\".format(\n",
    "        doc['subject'],\n",
    "        doc['subject_label'],\n",
    "        doc['object'],\n",
    "        doc['object_label'],\n",
    "        ', '.join(def_by)\n",
    "    ))\n",
    "    \n",
    "len(gene_set)"
   ]
  },
  {
   "cell_type": "code",
   "execution_count": null,
   "metadata": {
    "collapsed": true
   },
   "outputs": [],
   "source": []
  }
 ],
 "metadata": {
  "kernelspec": {
   "display_name": "Python 3",
   "language": "python",
   "name": "python3"
  },
  "language_info": {
   "codemirror_mode": {
    "name": "ipython",
    "version": 3
   },
   "file_extension": ".py",
   "mimetype": "text/x-python",
   "name": "python",
   "nbconvert_exporter": "python",
   "pygments_lexer": "ipython3",
   "version": "3.5.2"
  }
 },
 "nbformat": 4,
 "nbformat_minor": 2
}
