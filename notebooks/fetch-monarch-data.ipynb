{
 "cells": [
  {
   "cell_type": "code",
   "execution_count": 16,
   "metadata": {},
   "outputs": [
    {
     "name": "stderr",
     "output_type": "stream",
     "text": [
      "INFO:__main__:Processed 0 gene-phenotype documents\n",
      "INFO:__main__:Processed 100000 gene-phenotype documents\n",
      "INFO:__main__:Processed 200000 gene-phenotype documents\n",
      "INFO:__main__:Processed 300000 gene-phenotype documents\n",
      "INFO:__main__:Processed 400000 gene-phenotype documents\n",
      "INFO:__main__:Processed 500000 gene-phenotype documents\n",
      "INFO:__main__:Processed 600000 gene-phenotype documents\n",
      "INFO:__main__:Processed 700000 gene-phenotype documents\n",
      "INFO:__main__:Processed 0 gene-disease documents\n",
      "INFO:__main__:Processed 0 disease-phenotype documents\n",
      "INFO:__main__:Processed 100000 disease-phenotype documents\n",
      "INFO:__main__:Processed 200000 disease-phenotype documents\n"
     ]
    }
   ],
   "source": [
    "import requests\n",
    "import logging\n",
    "\n",
    "logging.basicConfig(level=logging.INFO)\n",
    "logger = logging.getLogger(__name__)\n",
    "\n",
    "\n",
    "SOLR_URL = 'https://solr.monarchinitiative.org/solr/golr/select'\n",
    "\n",
    "file_filter_map = {\n",
    "    'gene-disease': [\n",
    "        'subject_category:\"gene\"',\n",
    "        'object_category:\"disease\"'\n",
    "    ],\n",
    "    \n",
    "    'gene-phenotype': [\n",
    "        'subject_category:\"gene\"',\n",
    "        'object_category:\"phenotype\"'\n",
    "    ],\n",
    "    'disease-phenotype': [\n",
    "        'subject_category:\"disease\"',\n",
    "        'object_category:\"phenotype\"'\n",
    "    ],\n",
    "}\n",
    "\n",
    "fields = ['subject', 'subject_label', 'subject_taxon', 'subject_taxon_label',\n",
    "        'object', 'object_label', 'relation', 'relation_label',\n",
    "        'evidence', 'evidence_label']\n",
    "\n",
    "solr_params = {\n",
    "    'wt': 'json',\n",
    "    'q': '*:*',\n",
    "    'fl': fields,\n",
    "    'rows': 1000,\n",
    "}\n",
    "\n",
    "for file_name, filt in file_filter_map.items():\n",
    "    file = open(\"./{}.tsv\".format(file_name), 'w')\n",
    "    file.write(\"\\t\".join(fields) + \"\\n\")\n",
    "    solr_params['start'] = 0\n",
    "    solr_params['fq'] = filt\n",
    "    resultCount = solr_params['rows']\n",
    "\n",
    "    while solr_params['start'] < resultCount:\n",
    "        solr_request = requests.get(SOLR_URL, params=solr_params)\n",
    "        response = solr_request.json()\n",
    "        resultCount = response['response']['numFound']\n",
    "    \n",
    "        for doc in response['response']['docs']:\n",
    "            for field in fields:\n",
    "                if field in doc:\n",
    "                    if isinstance(doc[field], list):\n",
    "                        file.write(\"{}\\t\".format(\"|\".join(doc[field])))\n",
    "                    else:\n",
    "                        file.write(\"{}\\t\".format(doc[field]))\n",
    "                else:\n",
    "                    file.write(\"\\t\")\n",
    "            file.write(\"\\n\")\n",
    "        \n",
    "        if solr_params['start'] % 100000 == 0:\n",
    "            logger.info(\"Processed {} {} documents\".format(solr_params['start'], file_name))\n",
    "        \n",
    "        solr_params['start'] += solr_params['rows']\n",
    "    \n",
    "    file.close()\n",
    "\n"
   ]
  },
  {
   "cell_type": "code",
   "execution_count": null,
   "metadata": {
    "collapsed": true
   },
   "outputs": [],
   "source": []
  }
 ],
 "metadata": {
  "kernelspec": {
   "display_name": "Python 3",
   "language": "python",
   "name": "python3"
  },
  "language_info": {
   "codemirror_mode": {
    "name": "ipython",
    "version": 3
   },
   "file_extension": ".py",
   "mimetype": "text/x-python",
   "name": "python",
   "nbconvert_exporter": "python",
   "pygments_lexer": "ipython3",
   "version": "3.5.2"
  }
 },
 "nbformat": 4,
 "nbformat_minor": 2
}
